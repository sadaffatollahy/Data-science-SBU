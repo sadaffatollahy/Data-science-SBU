{
 "cells": [
  {
   "cell_type": "markdown",
   "id": "ccfaaed0",
   "metadata": {},
   "source": [
    "# Import libraries"
   ]
  },
  {
   "cell_type": "code",
   "execution_count": 30,
   "id": "9aba95f8",
   "metadata": {},
   "outputs": [],
   "source": [
    "import pandas as pd\n",
    "import numpy as np\n",
    "\n",
    "import matplotlib.pyplot as plt\n",
    "%matplotlib inline\n",
    "import seaborn as sns\n",
    "sns.set_style('whitegrid')\n"
   ]
  },
  {
   "cell_type": "markdown",
   "id": "9dd65c38",
   "metadata": {},
   "source": [
    "## Train dataset"
   ]
  },
  {
   "cell_type": "code",
   "execution_count": 74,
   "id": "f2f74abc",
   "metadata": {},
   "outputs": [
    {
     "data": {
      "text/html": [
       "<div>\n",
       "<style scoped>\n",
       "    .dataframe tbody tr th:only-of-type {\n",
       "        vertical-align: middle;\n",
       "    }\n",
       "\n",
       "    .dataframe tbody tr th {\n",
       "        vertical-align: top;\n",
       "    }\n",
       "\n",
       "    .dataframe thead th {\n",
       "        text-align: right;\n",
       "    }\n",
       "</style>\n",
       "<table border=\"1\" class=\"dataframe\">\n",
       "  <thead>\n",
       "    <tr style=\"text-align: right;\">\n",
       "      <th></th>\n",
       "      <th>Title</th>\n",
       "      <th>Author</th>\n",
       "      <th>Edition</th>\n",
       "      <th>Reviews</th>\n",
       "      <th>Ratings</th>\n",
       "      <th>Synopsis</th>\n",
       "      <th>Genre</th>\n",
       "      <th>BookCategory</th>\n",
       "      <th>Price</th>\n",
       "    </tr>\n",
       "  </thead>\n",
       "  <tbody>\n",
       "    <tr>\n",
       "      <th>0</th>\n",
       "      <td>The Prisoner's Gold (The Hunters 3)</td>\n",
       "      <td>Chris Kuzneski</td>\n",
       "      <td>Paperback,– 10 Mar 2016</td>\n",
       "      <td>4.0 out of 5 stars</td>\n",
       "      <td>8 customer reviews</td>\n",
       "      <td>THE HUNTERS return in their third brilliant no...</td>\n",
       "      <td>Action &amp; Adventure (Books)</td>\n",
       "      <td>Action &amp; Adventure</td>\n",
       "      <td>220.00</td>\n",
       "    </tr>\n",
       "    <tr>\n",
       "      <th>1</th>\n",
       "      <td>Guru Dutt: A Tragedy in Three Acts</td>\n",
       "      <td>Arun Khopkar</td>\n",
       "      <td>Paperback,– 7 Nov 2012</td>\n",
       "      <td>3.9 out of 5 stars</td>\n",
       "      <td>14 customer reviews</td>\n",
       "      <td>A layered portrait of a troubled genius for wh...</td>\n",
       "      <td>Cinema &amp; Broadcast (Books)</td>\n",
       "      <td>Biographies, Diaries &amp; True Accounts</td>\n",
       "      <td>202.93</td>\n",
       "    </tr>\n",
       "    <tr>\n",
       "      <th>2</th>\n",
       "      <td>Leviathan (Penguin Classics)</td>\n",
       "      <td>Thomas Hobbes</td>\n",
       "      <td>Paperback,– 25 Feb 1982</td>\n",
       "      <td>4.8 out of 5 stars</td>\n",
       "      <td>6 customer reviews</td>\n",
       "      <td>\"During the time men live without a common Pow...</td>\n",
       "      <td>International Relations</td>\n",
       "      <td>Humour</td>\n",
       "      <td>299.00</td>\n",
       "    </tr>\n",
       "    <tr>\n",
       "      <th>3</th>\n",
       "      <td>A Pocket Full of Rye (Miss Marple)</td>\n",
       "      <td>Agatha Christie</td>\n",
       "      <td>Paperback,– 5 Oct 2017</td>\n",
       "      <td>4.1 out of 5 stars</td>\n",
       "      <td>13 customer reviews</td>\n",
       "      <td>A handful of grain is found in the pocket of a...</td>\n",
       "      <td>Contemporary Fiction (Books)</td>\n",
       "      <td>Crime, Thriller &amp; Mystery</td>\n",
       "      <td>180.00</td>\n",
       "    </tr>\n",
       "    <tr>\n",
       "      <th>4</th>\n",
       "      <td>LIFE 70 Years of Extraordinary Photography</td>\n",
       "      <td>Editors of Life</td>\n",
       "      <td>Hardcover,– 10 Oct 2006</td>\n",
       "      <td>5.0 out of 5 stars</td>\n",
       "      <td>1 customer review</td>\n",
       "      <td>For seven decades, \"Life\" has been thrilling t...</td>\n",
       "      <td>Photography Textbooks</td>\n",
       "      <td>Arts, Film &amp; Photography</td>\n",
       "      <td>965.62</td>\n",
       "    </tr>\n",
       "  </tbody>\n",
       "</table>\n",
       "</div>"
      ],
      "text/plain": [
       "                                        Title           Author  \\\n",
       "0         The Prisoner's Gold (The Hunters 3)   Chris Kuzneski   \n",
       "1          Guru Dutt: A Tragedy in Three Acts     Arun Khopkar   \n",
       "2                Leviathan (Penguin Classics)    Thomas Hobbes   \n",
       "3          A Pocket Full of Rye (Miss Marple)  Agatha Christie   \n",
       "4  LIFE 70 Years of Extraordinary Photography  Editors of Life   \n",
       "\n",
       "                   Edition             Reviews              Ratings  \\\n",
       "0  Paperback,– 10 Mar 2016  4.0 out of 5 stars   8 customer reviews   \n",
       "1   Paperback,– 7 Nov 2012  3.9 out of 5 stars  14 customer reviews   \n",
       "2  Paperback,– 25 Feb 1982  4.8 out of 5 stars   6 customer reviews   \n",
       "3   Paperback,– 5 Oct 2017  4.1 out of 5 stars  13 customer reviews   \n",
       "4  Hardcover,– 10 Oct 2006  5.0 out of 5 stars    1 customer review   \n",
       "\n",
       "                                            Synopsis  \\\n",
       "0  THE HUNTERS return in their third brilliant no...   \n",
       "1  A layered portrait of a troubled genius for wh...   \n",
       "2  \"During the time men live without a common Pow...   \n",
       "3  A handful of grain is found in the pocket of a...   \n",
       "4  For seven decades, \"Life\" has been thrilling t...   \n",
       "\n",
       "                          Genre                          BookCategory   Price  \n",
       "0    Action & Adventure (Books)                    Action & Adventure  220.00  \n",
       "1    Cinema & Broadcast (Books)  Biographies, Diaries & True Accounts  202.93  \n",
       "2       International Relations                                Humour  299.00  \n",
       "3  Contemporary Fiction (Books)             Crime, Thriller & Mystery  180.00  \n",
       "4         Photography Textbooks              Arts, Film & Photography  965.62  "
      ]
     },
     "execution_count": 74,
     "metadata": {},
     "output_type": "execute_result"
    }
   ],
   "source": [
    "train_data= pd.read_excel('D:\\\\Sadaf SBU\\\\master\\\\term 3\\\\Basics Of Data science\\\\Data_Train.xlsx')\n",
    "train_data.head()"
   ]
  },
  {
   "cell_type": "code",
   "execution_count": 75,
   "id": "c076068f",
   "metadata": {},
   "outputs": [
    {
     "name": "stdout",
     "output_type": "stream",
     "text": [
      "Train data shape:  (5699, 9)\n"
     ]
    }
   ],
   "source": [
    "print('Train data shape: ', train_data.shape)"
   ]
  },
  {
   "cell_type": "markdown",
   "id": "edf78f29",
   "metadata": {},
   "source": [
    "Train DataSet:\n",
    "\n",
    ">we have 9 columns and 5699 entries.\n",
    ">\n",
    ">price is our target variable.\n"
   ]
  },
  {
   "cell_type": "code",
   "execution_count": 76,
   "id": "e07c6a8c",
   "metadata": {},
   "outputs": [
    {
     "name": "stdout",
     "output_type": "stream",
     "text": [
      "<class 'pandas.core.frame.DataFrame'>\n",
      "RangeIndex: 5699 entries, 0 to 5698\n",
      "Data columns (total 9 columns):\n",
      " #   Column        Non-Null Count  Dtype  \n",
      "---  ------        --------------  -----  \n",
      " 0   Title         5699 non-null   object \n",
      " 1   Author        5699 non-null   object \n",
      " 2   Edition       5699 non-null   object \n",
      " 3   Reviews       5699 non-null   object \n",
      " 4   Ratings       5699 non-null   object \n",
      " 5   Synopsis      5699 non-null   object \n",
      " 6   Genre         5699 non-null   object \n",
      " 7   BookCategory  5699 non-null   object \n",
      " 8   Price         5699 non-null   float64\n",
      "dtypes: float64(1), object(8)\n",
      "memory usage: 400.8+ KB\n"
     ]
    }
   ],
   "source": [
    "train_data.info()"
   ]
  },
  {
   "cell_type": "code",
   "execution_count": 77,
   "id": "703555d9",
   "metadata": {},
   "outputs": [
    {
     "data": {
      "text/html": [
       "<div>\n",
       "<style scoped>\n",
       "    .dataframe tbody tr th:only-of-type {\n",
       "        vertical-align: middle;\n",
       "    }\n",
       "\n",
       "    .dataframe tbody tr th {\n",
       "        vertical-align: top;\n",
       "    }\n",
       "\n",
       "    .dataframe thead th {\n",
       "        text-align: right;\n",
       "    }\n",
       "</style>\n",
       "<table border=\"1\" class=\"dataframe\">\n",
       "  <thead>\n",
       "    <tr style=\"text-align: right;\">\n",
       "      <th></th>\n",
       "      <th>Price</th>\n",
       "    </tr>\n",
       "  </thead>\n",
       "  <tbody>\n",
       "    <tr>\n",
       "      <th>count</th>\n",
       "      <td>5699.000000</td>\n",
       "    </tr>\n",
       "    <tr>\n",
       "      <th>mean</th>\n",
       "      <td>554.857428</td>\n",
       "    </tr>\n",
       "    <tr>\n",
       "      <th>std</th>\n",
       "      <td>674.363427</td>\n",
       "    </tr>\n",
       "    <tr>\n",
       "      <th>min</th>\n",
       "      <td>25.000000</td>\n",
       "    </tr>\n",
       "    <tr>\n",
       "      <th>25%</th>\n",
       "      <td>249.000000</td>\n",
       "    </tr>\n",
       "    <tr>\n",
       "      <th>50%</th>\n",
       "      <td>373.000000</td>\n",
       "    </tr>\n",
       "    <tr>\n",
       "      <th>75%</th>\n",
       "      <td>599.000000</td>\n",
       "    </tr>\n",
       "    <tr>\n",
       "      <th>max</th>\n",
       "      <td>14100.000000</td>\n",
       "    </tr>\n",
       "  </tbody>\n",
       "</table>\n",
       "</div>"
      ],
      "text/plain": [
       "              Price\n",
       "count   5699.000000\n",
       "mean     554.857428\n",
       "std      674.363427\n",
       "min       25.000000\n",
       "25%      249.000000\n",
       "50%      373.000000\n",
       "75%      599.000000\n",
       "max    14100.000000"
      ]
     },
     "execution_count": 77,
     "metadata": {},
     "output_type": "execute_result"
    }
   ],
   "source": [
    "train_data.describe()"
   ]
  },
  {
   "cell_type": "markdown",
   "id": "82d38917",
   "metadata": {},
   "source": [
    "## Test dataset"
   ]
  },
  {
   "cell_type": "code",
   "execution_count": 78,
   "id": "d081a5e4",
   "metadata": {
    "scrolled": true
   },
   "outputs": [
    {
     "data": {
      "text/html": [
       "<div>\n",
       "<style scoped>\n",
       "    .dataframe tbody tr th:only-of-type {\n",
       "        vertical-align: middle;\n",
       "    }\n",
       "\n",
       "    .dataframe tbody tr th {\n",
       "        vertical-align: top;\n",
       "    }\n",
       "\n",
       "    .dataframe thead th {\n",
       "        text-align: right;\n",
       "    }\n",
       "</style>\n",
       "<table border=\"1\" class=\"dataframe\">\n",
       "  <thead>\n",
       "    <tr style=\"text-align: right;\">\n",
       "      <th></th>\n",
       "      <th>Unnamed: 0</th>\n",
       "      <th>Title</th>\n",
       "      <th>Author</th>\n",
       "      <th>Edition</th>\n",
       "      <th>Reviews</th>\n",
       "      <th>Ratings</th>\n",
       "      <th>Synopsis</th>\n",
       "      <th>Genre</th>\n",
       "      <th>BookCategory</th>\n",
       "    </tr>\n",
       "  </thead>\n",
       "  <tbody>\n",
       "    <tr>\n",
       "      <th>0</th>\n",
       "      <td>0</td>\n",
       "      <td>Portrait Of A Director:satyajit Ray</td>\n",
       "      <td>Marie Seton</td>\n",
       "      <td>Paperback,– 19 Jun 2003</td>\n",
       "      <td>4.8 out of 5 stars</td>\n",
       "      <td>10 customer reviews</td>\n",
       "      <td>The definitive study of the life and work of I...</td>\n",
       "      <td>Biographies &amp; Autobiographies (Books)</td>\n",
       "      <td>Arts, Film &amp; Photography</td>\n",
       "    </tr>\n",
       "    <tr>\n",
       "      <th>1</th>\n",
       "      <td>1</td>\n",
       "      <td>More Mindfulness Colouring: More Anti-stress A...</td>\n",
       "      <td>Emma Farrarons</td>\n",
       "      <td>Paperback,– Import, 24 Sep 2015</td>\n",
       "      <td>3.9 out of 5 stars</td>\n",
       "      <td>6 customer reviews</td>\n",
       "      <td>Take a few more minutes out of your day, where...</td>\n",
       "      <td>Handicrafts, Decorative Arts &amp; Crafts (Books)</td>\n",
       "      <td>Arts, Film &amp; Photography</td>\n",
       "    </tr>\n",
       "    <tr>\n",
       "      <th>2</th>\n",
       "      <td>2</td>\n",
       "      <td>Palace of Treason: Discover what happens next ...</td>\n",
       "      <td>Jason Matthews</td>\n",
       "      <td>Paperback,– 21 Apr 2016</td>\n",
       "      <td>3.3 out of 5 stars</td>\n",
       "      <td>3 customer reviews</td>\n",
       "      <td>DISCOVER WHAT HAPPENS NEXT AFTER THE RED SPARR...</td>\n",
       "      <td>Action &amp; Adventure (Books)</td>\n",
       "      <td>Crime, Thriller &amp; Mystery</td>\n",
       "    </tr>\n",
       "    <tr>\n",
       "      <th>3</th>\n",
       "      <td>3</td>\n",
       "      <td>A History of Political Thought: Plato to Marx</td>\n",
       "      <td>Mukherjee</td>\n",
       "      <td>Paperback,– 2011</td>\n",
       "      <td>3.8 out of 5 stars</td>\n",
       "      <td>74 customer reviews</td>\n",
       "      <td>This book presents a study in political tradit...</td>\n",
       "      <td>Political Ideologies (Books)</td>\n",
       "      <td>Politics</td>\n",
       "    </tr>\n",
       "    <tr>\n",
       "      <th>4</th>\n",
       "      <td>4</td>\n",
       "      <td>Homer Kelley's Golfing Machine: The Curious Qu...</td>\n",
       "      <td>Scott Gummer</td>\n",
       "      <td>Paperback,– 4 May 2010</td>\n",
       "      <td>4.0 out of 5 stars</td>\n",
       "      <td>1 customer review</td>\n",
       "      <td>The remarkable true story of a lone genius who...</td>\n",
       "      <td>Baseball (Books)</td>\n",
       "      <td>Sports</td>\n",
       "    </tr>\n",
       "  </tbody>\n",
       "</table>\n",
       "</div>"
      ],
      "text/plain": [
       "   Unnamed: 0                                              Title  \\\n",
       "0           0                Portrait Of A Director:satyajit Ray   \n",
       "1           1  More Mindfulness Colouring: More Anti-stress A...   \n",
       "2           2  Palace of Treason: Discover what happens next ...   \n",
       "3           3      A History of Political Thought: Plato to Marx   \n",
       "4           4  Homer Kelley's Golfing Machine: The Curious Qu...   \n",
       "\n",
       "           Author                          Edition             Reviews  \\\n",
       "0     Marie Seton          Paperback,– 19 Jun 2003  4.8 out of 5 stars   \n",
       "1  Emma Farrarons  Paperback,– Import, 24 Sep 2015  3.9 out of 5 stars   \n",
       "2  Jason Matthews          Paperback,– 21 Apr 2016  3.3 out of 5 stars   \n",
       "3       Mukherjee                 Paperback,– 2011  3.8 out of 5 stars   \n",
       "4    Scott Gummer           Paperback,– 4 May 2010  4.0 out of 5 stars   \n",
       "\n",
       "               Ratings                                           Synopsis  \\\n",
       "0  10 customer reviews  The definitive study of the life and work of I...   \n",
       "1   6 customer reviews  Take a few more minutes out of your day, where...   \n",
       "2   3 customer reviews  DISCOVER WHAT HAPPENS NEXT AFTER THE RED SPARR...   \n",
       "3  74 customer reviews  This book presents a study in political tradit...   \n",
       "4    1 customer review  The remarkable true story of a lone genius who...   \n",
       "\n",
       "                                           Genre               BookCategory  \n",
       "0          Biographies & Autobiographies (Books)   Arts, Film & Photography  \n",
       "1  Handicrafts, Decorative Arts & Crafts (Books)   Arts, Film & Photography  \n",
       "2                     Action & Adventure (Books)  Crime, Thriller & Mystery  \n",
       "3                   Political Ideologies (Books)                   Politics  \n",
       "4                               Baseball (Books)                     Sports  "
      ]
     },
     "execution_count": 78,
     "metadata": {},
     "output_type": "execute_result"
    }
   ],
   "source": [
    "test_data= pd.read_excel(\"D:\\\\Sadaf SBU\\\\master\\\\term 3\\\\Basics Of Data science\\\\test.xlsx\")\n",
    "test_data.head()"
   ]
  },
  {
   "cell_type": "code",
   "execution_count": 79,
   "id": "2d67d250",
   "metadata": {},
   "outputs": [],
   "source": [
    "test_data.drop('Unnamed: 0', axis=1, inplace= True)"
   ]
  },
  {
   "cell_type": "code",
   "execution_count": 80,
   "id": "990df8eb",
   "metadata": {},
   "outputs": [
    {
     "name": "stdout",
     "output_type": "stream",
     "text": [
      "Test data shape:  (537, 8)\n"
     ]
    }
   ],
   "source": [
    "print('Test data shape: ', test_data.shape)"
   ]
  },
  {
   "cell_type": "markdown",
   "id": "aac7534e",
   "metadata": {},
   "source": [
    "Test Dataset:\n",
    "\n",
    ">We have 8 columns except the target variable and 537 entries"
   ]
  },
  {
   "cell_type": "code",
   "execution_count": 81,
   "id": "312d987f",
   "metadata": {
    "scrolled": true
   },
   "outputs": [
    {
     "name": "stdout",
     "output_type": "stream",
     "text": [
      "<class 'pandas.core.frame.DataFrame'>\n",
      "RangeIndex: 537 entries, 0 to 536\n",
      "Data columns (total 8 columns):\n",
      " #   Column        Non-Null Count  Dtype \n",
      "---  ------        --------------  ----- \n",
      " 0   Title         537 non-null    object\n",
      " 1   Author        537 non-null    object\n",
      " 2   Edition       537 non-null    object\n",
      " 3   Reviews       537 non-null    object\n",
      " 4   Ratings       537 non-null    object\n",
      " 5   Synopsis      537 non-null    object\n",
      " 6   Genre         537 non-null    object\n",
      " 7   BookCategory  537 non-null    object\n",
      "dtypes: object(8)\n",
      "memory usage: 33.7+ KB\n"
     ]
    }
   ],
   "source": [
    "test_data.info()"
   ]
  },
  {
   "cell_type": "markdown",
   "id": "4599c60e",
   "metadata": {},
   "source": [
    "FEATURES:\n",
    ">Title: The title of the book\n",
    ">\n",
    ">Author: The author(s) of the book.\n",
    ">\n",
    ">Edition: The edition of the book eg (Paperback,– Import, 26 Apr 2018)\n",
    ">\n",
    ">Reviews: The customer reviews about the book\n",
    ">\n",
    ">Ratings: The customer ratings of the book\n",
    ">\n",
    ">Synopsis: The synopsis of the book\n",
    ">\n",
    ">Genre: The genre the book belongs to\n",
    ">\n",
    ">BookCategory: The department the book is usually available at.\n",
    ">\n",
    ">Price: The price of the book (Target variable)"
   ]
  },
  {
   "cell_type": "markdown",
   "id": "fdc421b9",
   "metadata": {},
   "source": [
    "## EDA , Data Cleaning and Feature Engineering"
   ]
  },
  {
   "cell_type": "code",
   "execution_count": 82,
   "id": "2e37627e",
   "metadata": {
    "scrolled": true
   },
   "outputs": [
    {
     "data": {
      "text/plain": [
       "Title           0\n",
       "Author          0\n",
       "Edition         0\n",
       "Reviews         0\n",
       "Ratings         0\n",
       "Synopsis        0\n",
       "Genre           0\n",
       "BookCategory    0\n",
       "Price           0\n",
       "dtype: int64"
      ]
     },
     "execution_count": 82,
     "metadata": {},
     "output_type": "execute_result"
    }
   ],
   "source": [
    "train_data.isnull().sum()"
   ]
  },
  {
   "cell_type": "code",
   "execution_count": 83,
   "id": "6d7fb700",
   "metadata": {},
   "outputs": [
    {
     "data": {
      "text/plain": [
       "Title           0\n",
       "Author          0\n",
       "Edition         0\n",
       "Reviews         0\n",
       "Ratings         0\n",
       "Synopsis        0\n",
       "Genre           0\n",
       "BookCategory    0\n",
       "dtype: int64"
      ]
     },
     "execution_count": 83,
     "metadata": {},
     "output_type": "execute_result"
    }
   ],
   "source": [
    "test_data.isnull().sum()"
   ]
  },
  {
   "cell_type": "markdown",
   "id": "2ac69fc1",
   "metadata": {},
   "source": [
    " No missing values in our datasets"
   ]
  },
  {
   "cell_type": "markdown",
   "id": "cc29333c",
   "metadata": {},
   "source": [
    "### Reviews and Ratings"
   ]
  },
  {
   "cell_type": "code",
   "execution_count": 84,
   "id": "8c662f13",
   "metadata": {},
   "outputs": [
    {
     "data": {
      "text/plain": [
       "0    4.0 out of 5 stars\n",
       "1    3.9 out of 5 stars\n",
       "2    4.8 out of 5 stars\n",
       "3    4.1 out of 5 stars\n",
       "4    5.0 out of 5 stars\n",
       "Name: Reviews, dtype: object"
      ]
     },
     "execution_count": 84,
     "metadata": {},
     "output_type": "execute_result"
    }
   ],
   "source": [
    "train_data['Reviews'].head()"
   ]
  },
  {
   "cell_type": "code",
   "execution_count": 85,
   "id": "b28b938c",
   "metadata": {},
   "outputs": [
    {
     "data": {
      "text/plain": [
       "0     8 customer reviews\n",
       "1    14 customer reviews\n",
       "2     6 customer reviews\n",
       "3    13 customer reviews\n",
       "4      1 customer review\n",
       "Name: Ratings, dtype: object"
      ]
     },
     "execution_count": 85,
     "metadata": {},
     "output_type": "execute_result"
    }
   ],
   "source": [
    "train_data['Ratings'].head()"
   ]
  },
  {
   "cell_type": "code",
   "execution_count": 86,
   "id": "0b578354",
   "metadata": {},
   "outputs": [],
   "source": [
    "train_data['Reviews'] = train_data['Reviews'].apply(lambda x:x.split()[0]).astype(float)\n",
    "train_data.rename(columns={'Reviews': 'Raiting'}, inplace=True)\n",
    "\n",
    "test_data['Reviews'] = test_data['Reviews'].apply(lambda x:x.split()[0]).astype(float)\n",
    "test_data.rename(columns={'Reviews': 'Raiting'}, inplace=True)"
   ]
  },
  {
   "cell_type": "code",
   "execution_count": 87,
   "id": "420e70d0",
   "metadata": {},
   "outputs": [],
   "source": [
    "train_data['Ratings'] = train_data['Ratings'].apply(lambda x: (x.split()[0].replace(',',''))).astype(float)\n",
    "train_data.rename(columns={'Ratings': 'Review'}, inplace=True)\n",
    "\n",
    "test_data['Ratings'] = test_data['Ratings'].apply(lambda x: (x.split()[0].replace(',',''))).astype(float)\n",
    "test_data.rename(columns={'Ratings': 'Review'}, inplace=True)"
   ]
  },
  {
   "cell_type": "code",
   "execution_count": 88,
   "id": "fa401524",
   "metadata": {},
   "outputs": [
    {
     "data": {
      "text/plain": [
       "0     8.0\n",
       "1    14.0\n",
       "2     6.0\n",
       "3    13.0\n",
       "4     1.0\n",
       "Name: Review, dtype: float64"
      ]
     },
     "execution_count": 88,
     "metadata": {},
     "output_type": "execute_result"
    }
   ],
   "source": [
    "train_data['Review'].head()"
   ]
  },
  {
   "cell_type": "code",
   "execution_count": 89,
   "id": "c247ccdb",
   "metadata": {},
   "outputs": [
    {
     "data": {
      "text/plain": [
       "0    4.0\n",
       "1    3.9\n",
       "2    4.8\n",
       "3    4.1\n",
       "4    5.0\n",
       "Name: Raiting, dtype: float64"
      ]
     },
     "execution_count": 89,
     "metadata": {},
     "output_type": "execute_result"
    }
   ],
   "source": [
    "train_data['Raiting'].head()"
   ]
  },
  {
   "cell_type": "markdown",
   "id": "723cb580",
   "metadata": {},
   "source": [
    "### Edition"
   ]
  },
  {
   "cell_type": "code",
   "execution_count": 90,
   "id": "03d76b97",
   "metadata": {},
   "outputs": [
    {
     "data": {
      "text/plain": [
       "0    Paperback,– 10 Mar 2016\n",
       "1     Paperback,– 7 Nov 2012\n",
       "2    Paperback,– 25 Feb 1982\n",
       "3     Paperback,– 5 Oct 2017\n",
       "4    Hardcover,– 10 Oct 2006\n",
       "Name: Edition, dtype: object"
      ]
     },
     "execution_count": 90,
     "metadata": {},
     "output_type": "execute_result"
    }
   ],
   "source": [
    "train_data['Edition'].head()"
   ]
  },
  {
   "cell_type": "code",
   "execution_count": 91,
   "id": "3be873af",
   "metadata": {},
   "outputs": [
    {
     "name": "stdout",
     "output_type": "stream",
     "text": [
      "<class 'pandas.core.frame.DataFrame'>\n",
      "RangeIndex: 5699 entries, 0 to 5698\n",
      "Data columns (total 11 columns):\n",
      " #   Column        Non-Null Count  Dtype  \n",
      "---  ------        --------------  -----  \n",
      " 0   Title         5699 non-null   object \n",
      " 1   Author        5699 non-null   object \n",
      " 2   Edition       5699 non-null   object \n",
      " 3   Raiting       5699 non-null   float64\n",
      " 4   Review        5699 non-null   float64\n",
      " 5   Synopsis      5699 non-null   object \n",
      " 6   Genre         5699 non-null   object \n",
      " 7   BookCategory  5699 non-null   object \n",
      " 8   Price         5699 non-null   float64\n",
      " 9   Edition_date  5699 non-null   object \n",
      " 10  Edition_type  5699 non-null   object \n",
      "dtypes: float64(3), object(8)\n",
      "memory usage: 489.9+ KB\n",
      "None\n"
     ]
    },
    {
     "data": {
      "text/html": [
       "<div>\n",
       "<style scoped>\n",
       "    .dataframe tbody tr th:only-of-type {\n",
       "        vertical-align: middle;\n",
       "    }\n",
       "\n",
       "    .dataframe tbody tr th {\n",
       "        vertical-align: top;\n",
       "    }\n",
       "\n",
       "    .dataframe thead th {\n",
       "        text-align: right;\n",
       "    }\n",
       "</style>\n",
       "<table border=\"1\" class=\"dataframe\">\n",
       "  <thead>\n",
       "    <tr style=\"text-align: right;\">\n",
       "      <th></th>\n",
       "      <th>Title</th>\n",
       "      <th>Author</th>\n",
       "      <th>Edition</th>\n",
       "      <th>Raiting</th>\n",
       "      <th>Review</th>\n",
       "      <th>Synopsis</th>\n",
       "      <th>Genre</th>\n",
       "      <th>BookCategory</th>\n",
       "      <th>Price</th>\n",
       "      <th>Edition_date</th>\n",
       "      <th>Edition_type</th>\n",
       "    </tr>\n",
       "  </thead>\n",
       "  <tbody>\n",
       "    <tr>\n",
       "      <th>0</th>\n",
       "      <td>The Prisoner's Gold (The Hunters 3)</td>\n",
       "      <td>Chris Kuzneski</td>\n",
       "      <td>Paperback,– 10 Mar 2016</td>\n",
       "      <td>4.0</td>\n",
       "      <td>8.0</td>\n",
       "      <td>THE HUNTERS return in their third brilliant no...</td>\n",
       "      <td>Action &amp; Adventure (Books)</td>\n",
       "      <td>Action &amp; Adventure</td>\n",
       "      <td>220.00</td>\n",
       "      <td>10 Mar 2016</td>\n",
       "      <td>Paperback</td>\n",
       "    </tr>\n",
       "    <tr>\n",
       "      <th>1</th>\n",
       "      <td>Guru Dutt: A Tragedy in Three Acts</td>\n",
       "      <td>Arun Khopkar</td>\n",
       "      <td>Paperback,– 7 Nov 2012</td>\n",
       "      <td>3.9</td>\n",
       "      <td>14.0</td>\n",
       "      <td>A layered portrait of a troubled genius for wh...</td>\n",
       "      <td>Cinema &amp; Broadcast (Books)</td>\n",
       "      <td>Biographies, Diaries &amp; True Accounts</td>\n",
       "      <td>202.93</td>\n",
       "      <td>7 Nov 2012</td>\n",
       "      <td>Paperback</td>\n",
       "    </tr>\n",
       "    <tr>\n",
       "      <th>2</th>\n",
       "      <td>Leviathan (Penguin Classics)</td>\n",
       "      <td>Thomas Hobbes</td>\n",
       "      <td>Paperback,– 25 Feb 1982</td>\n",
       "      <td>4.8</td>\n",
       "      <td>6.0</td>\n",
       "      <td>\"During the time men live without a common Pow...</td>\n",
       "      <td>International Relations</td>\n",
       "      <td>Humour</td>\n",
       "      <td>299.00</td>\n",
       "      <td>25 Feb 1982</td>\n",
       "      <td>Paperback</td>\n",
       "    </tr>\n",
       "    <tr>\n",
       "      <th>3</th>\n",
       "      <td>A Pocket Full of Rye (Miss Marple)</td>\n",
       "      <td>Agatha Christie</td>\n",
       "      <td>Paperback,– 5 Oct 2017</td>\n",
       "      <td>4.1</td>\n",
       "      <td>13.0</td>\n",
       "      <td>A handful of grain is found in the pocket of a...</td>\n",
       "      <td>Contemporary Fiction (Books)</td>\n",
       "      <td>Crime, Thriller &amp; Mystery</td>\n",
       "      <td>180.00</td>\n",
       "      <td>5 Oct 2017</td>\n",
       "      <td>Paperback</td>\n",
       "    </tr>\n",
       "    <tr>\n",
       "      <th>4</th>\n",
       "      <td>LIFE 70 Years of Extraordinary Photography</td>\n",
       "      <td>Editors of Life</td>\n",
       "      <td>Hardcover,– 10 Oct 2006</td>\n",
       "      <td>5.0</td>\n",
       "      <td>1.0</td>\n",
       "      <td>For seven decades, \"Life\" has been thrilling t...</td>\n",
       "      <td>Photography Textbooks</td>\n",
       "      <td>Arts, Film &amp; Photography</td>\n",
       "      <td>965.62</td>\n",
       "      <td>10 Oct 2006</td>\n",
       "      <td>Hardcover</td>\n",
       "    </tr>\n",
       "  </tbody>\n",
       "</table>\n",
       "</div>"
      ],
      "text/plain": [
       "                                        Title           Author  \\\n",
       "0         The Prisoner's Gold (The Hunters 3)   Chris Kuzneski   \n",
       "1          Guru Dutt: A Tragedy in Three Acts     Arun Khopkar   \n",
       "2                Leviathan (Penguin Classics)    Thomas Hobbes   \n",
       "3          A Pocket Full of Rye (Miss Marple)  Agatha Christie   \n",
       "4  LIFE 70 Years of Extraordinary Photography  Editors of Life   \n",
       "\n",
       "                   Edition  Raiting  Review  \\\n",
       "0  Paperback,– 10 Mar 2016      4.0     8.0   \n",
       "1   Paperback,– 7 Nov 2012      3.9    14.0   \n",
       "2  Paperback,– 25 Feb 1982      4.8     6.0   \n",
       "3   Paperback,– 5 Oct 2017      4.1    13.0   \n",
       "4  Hardcover,– 10 Oct 2006      5.0     1.0   \n",
       "\n",
       "                                            Synopsis  \\\n",
       "0  THE HUNTERS return in their third brilliant no...   \n",
       "1  A layered portrait of a troubled genius for wh...   \n",
       "2  \"During the time men live without a common Pow...   \n",
       "3  A handful of grain is found in the pocket of a...   \n",
       "4  For seven decades, \"Life\" has been thrilling t...   \n",
       "\n",
       "                          Genre                          BookCategory   Price  \\\n",
       "0    Action & Adventure (Books)                    Action & Adventure  220.00   \n",
       "1    Cinema & Broadcast (Books)  Biographies, Diaries & True Accounts  202.93   \n",
       "2       International Relations                                Humour  299.00   \n",
       "3  Contemporary Fiction (Books)             Crime, Thriller & Mystery  180.00   \n",
       "4         Photography Textbooks              Arts, Film & Photography  965.62   \n",
       "\n",
       "  Edition_date Edition_type  \n",
       "0  10 Mar 2016    Paperback  \n",
       "1   7 Nov 2012    Paperback  \n",
       "2  25 Feb 1982    Paperback  \n",
       "3   5 Oct 2017    Paperback  \n",
       "4  10 Oct 2006    Hardcover  "
      ]
     },
     "execution_count": 91,
     "metadata": {},
     "output_type": "execute_result"
    }
   ],
   "source": [
    "train_data['Edition_date']=train_data['Edition'].apply(lambda x: x.split(',– ')[-1])\n",
    "train_data['Edition_type']=train_data['Edition'].apply(lambda x: x.split(',– ')[0])\n",
    "print(train_data.info())\n",
    "train_data.head()"
   ]
  },
  {
   "cell_type": "code",
   "execution_count": 92,
   "id": "63fb9113",
   "metadata": {
    "scrolled": true
   },
   "outputs": [
    {
     "name": "stdout",
     "output_type": "stream",
     "text": [
      "<class 'pandas.core.frame.DataFrame'>\n",
      "RangeIndex: 537 entries, 0 to 536\n",
      "Data columns (total 10 columns):\n",
      " #   Column        Non-Null Count  Dtype  \n",
      "---  ------        --------------  -----  \n",
      " 0   Title         537 non-null    object \n",
      " 1   Author        537 non-null    object \n",
      " 2   Edition       537 non-null    object \n",
      " 3   Raiting       537 non-null    float64\n",
      " 4   Review        537 non-null    float64\n",
      " 5   Synopsis      537 non-null    object \n",
      " 6   Genre         537 non-null    object \n",
      " 7   BookCategory  537 non-null    object \n",
      " 8   Edition_date  537 non-null    object \n",
      " 9   Edition_type  537 non-null    object \n",
      "dtypes: float64(2), object(8)\n",
      "memory usage: 42.1+ KB\n",
      "None\n"
     ]
    },
    {
     "data": {
      "text/html": [
       "<div>\n",
       "<style scoped>\n",
       "    .dataframe tbody tr th:only-of-type {\n",
       "        vertical-align: middle;\n",
       "    }\n",
       "\n",
       "    .dataframe tbody tr th {\n",
       "        vertical-align: top;\n",
       "    }\n",
       "\n",
       "    .dataframe thead th {\n",
       "        text-align: right;\n",
       "    }\n",
       "</style>\n",
       "<table border=\"1\" class=\"dataframe\">\n",
       "  <thead>\n",
       "    <tr style=\"text-align: right;\">\n",
       "      <th></th>\n",
       "      <th>Title</th>\n",
       "      <th>Author</th>\n",
       "      <th>Edition</th>\n",
       "      <th>Raiting</th>\n",
       "      <th>Review</th>\n",
       "      <th>Synopsis</th>\n",
       "      <th>Genre</th>\n",
       "      <th>BookCategory</th>\n",
       "      <th>Edition_date</th>\n",
       "      <th>Edition_type</th>\n",
       "    </tr>\n",
       "  </thead>\n",
       "  <tbody>\n",
       "    <tr>\n",
       "      <th>0</th>\n",
       "      <td>Portrait Of A Director:satyajit Ray</td>\n",
       "      <td>Marie Seton</td>\n",
       "      <td>Paperback,– 19 Jun 2003</td>\n",
       "      <td>4.8</td>\n",
       "      <td>10.0</td>\n",
       "      <td>The definitive study of the life and work of I...</td>\n",
       "      <td>Biographies &amp; Autobiographies (Books)</td>\n",
       "      <td>Arts, Film &amp; Photography</td>\n",
       "      <td>19 Jun 2003</td>\n",
       "      <td>Paperback</td>\n",
       "    </tr>\n",
       "    <tr>\n",
       "      <th>1</th>\n",
       "      <td>More Mindfulness Colouring: More Anti-stress A...</td>\n",
       "      <td>Emma Farrarons</td>\n",
       "      <td>Paperback,– Import, 24 Sep 2015</td>\n",
       "      <td>3.9</td>\n",
       "      <td>6.0</td>\n",
       "      <td>Take a few more minutes out of your day, where...</td>\n",
       "      <td>Handicrafts, Decorative Arts &amp; Crafts (Books)</td>\n",
       "      <td>Arts, Film &amp; Photography</td>\n",
       "      <td>Import, 24 Sep 2015</td>\n",
       "      <td>Paperback</td>\n",
       "    </tr>\n",
       "    <tr>\n",
       "      <th>2</th>\n",
       "      <td>Palace of Treason: Discover what happens next ...</td>\n",
       "      <td>Jason Matthews</td>\n",
       "      <td>Paperback,– 21 Apr 2016</td>\n",
       "      <td>3.3</td>\n",
       "      <td>3.0</td>\n",
       "      <td>DISCOVER WHAT HAPPENS NEXT AFTER THE RED SPARR...</td>\n",
       "      <td>Action &amp; Adventure (Books)</td>\n",
       "      <td>Crime, Thriller &amp; Mystery</td>\n",
       "      <td>21 Apr 2016</td>\n",
       "      <td>Paperback</td>\n",
       "    </tr>\n",
       "    <tr>\n",
       "      <th>3</th>\n",
       "      <td>A History of Political Thought: Plato to Marx</td>\n",
       "      <td>Mukherjee</td>\n",
       "      <td>Paperback,– 2011</td>\n",
       "      <td>3.8</td>\n",
       "      <td>74.0</td>\n",
       "      <td>This book presents a study in political tradit...</td>\n",
       "      <td>Political Ideologies (Books)</td>\n",
       "      <td>Politics</td>\n",
       "      <td>2011</td>\n",
       "      <td>Paperback</td>\n",
       "    </tr>\n",
       "    <tr>\n",
       "      <th>4</th>\n",
       "      <td>Homer Kelley's Golfing Machine: The Curious Qu...</td>\n",
       "      <td>Scott Gummer</td>\n",
       "      <td>Paperback,– 4 May 2010</td>\n",
       "      <td>4.0</td>\n",
       "      <td>1.0</td>\n",
       "      <td>The remarkable true story of a lone genius who...</td>\n",
       "      <td>Baseball (Books)</td>\n",
       "      <td>Sports</td>\n",
       "      <td>4 May 2010</td>\n",
       "      <td>Paperback</td>\n",
       "    </tr>\n",
       "  </tbody>\n",
       "</table>\n",
       "</div>"
      ],
      "text/plain": [
       "                                               Title          Author  \\\n",
       "0                Portrait Of A Director:satyajit Ray     Marie Seton   \n",
       "1  More Mindfulness Colouring: More Anti-stress A...  Emma Farrarons   \n",
       "2  Palace of Treason: Discover what happens next ...  Jason Matthews   \n",
       "3      A History of Political Thought: Plato to Marx       Mukherjee   \n",
       "4  Homer Kelley's Golfing Machine: The Curious Qu...    Scott Gummer   \n",
       "\n",
       "                           Edition  Raiting  Review  \\\n",
       "0          Paperback,– 19 Jun 2003      4.8    10.0   \n",
       "1  Paperback,– Import, 24 Sep 2015      3.9     6.0   \n",
       "2          Paperback,– 21 Apr 2016      3.3     3.0   \n",
       "3                 Paperback,– 2011      3.8    74.0   \n",
       "4           Paperback,– 4 May 2010      4.0     1.0   \n",
       "\n",
       "                                            Synopsis  \\\n",
       "0  The definitive study of the life and work of I...   \n",
       "1  Take a few more minutes out of your day, where...   \n",
       "2  DISCOVER WHAT HAPPENS NEXT AFTER THE RED SPARR...   \n",
       "3  This book presents a study in political tradit...   \n",
       "4  The remarkable true story of a lone genius who...   \n",
       "\n",
       "                                           Genre               BookCategory  \\\n",
       "0          Biographies & Autobiographies (Books)   Arts, Film & Photography   \n",
       "1  Handicrafts, Decorative Arts & Crafts (Books)   Arts, Film & Photography   \n",
       "2                     Action & Adventure (Books)  Crime, Thriller & Mystery   \n",
       "3                   Political Ideologies (Books)                   Politics   \n",
       "4                               Baseball (Books)                     Sports   \n",
       "\n",
       "          Edition_date Edition_type  \n",
       "0          19 Jun 2003    Paperback  \n",
       "1  Import, 24 Sep 2015    Paperback  \n",
       "2          21 Apr 2016    Paperback  \n",
       "3                 2011    Paperback  \n",
       "4           4 May 2010    Paperback  "
      ]
     },
     "execution_count": 92,
     "metadata": {},
     "output_type": "execute_result"
    }
   ],
   "source": [
    "test_data['Edition_date']=test_data['Edition'].apply(lambda x: x.split(',– ')[-1])\n",
    "test_data['Edition_type']=test_data['Edition'].apply(lambda x: x.split(',– ')[0])\n",
    "print(test_data.info())\n",
    "test_data.head()"
   ]
  },
  {
   "cell_type": "code",
   "execution_count": 93,
   "id": "7479c656",
   "metadata": {},
   "outputs": [],
   "source": [
    "train_data.drop(['Title', 'Edition', 'Synopsis'],axis = 1,inplace=True)\n",
    "test_data.drop(['Title', 'Edition', 'Synopsis'],axis = 1,inplace=True)"
   ]
  },
  {
   "cell_type": "code",
   "execution_count": 94,
   "id": "7ed29924",
   "metadata": {
    "scrolled": true
   },
   "outputs": [
    {
     "data": {
      "text/plain": [
       "Paperback                4741\n",
       "Hardcover                 750\n",
       "Mass Market Paperback     148\n",
       "Sheet music                22\n",
       "Flexibound                 14\n",
       "Cards                       7\n",
       "Spiral-bound                4\n",
       "Loose Leaf                  2\n",
       "Tankobon Softcover          2\n",
       "Product Bundle              1\n",
       "Leather Bound               1\n",
       "(German),Paperback          1\n",
       "Library Binding             1\n",
       "Board book                  1\n",
       "(Kannada),Paperback         1\n",
       "Perfect Paperback           1\n",
       "Plastic Comb                1\n",
       "(French),Paperback          1\n",
       "Name: Edition_type, dtype: int64"
      ]
     },
     "execution_count": 94,
     "metadata": {},
     "output_type": "execute_result"
    }
   ],
   "source": [
    "train_data['Edition_type'].value_counts()"
   ]
  },
  {
   "cell_type": "code",
   "execution_count": 95,
   "id": "786157fb",
   "metadata": {
    "scrolled": true
   },
   "outputs": [
    {
     "data": {
      "text/plain": [
       "array(['Paperback', 'Hardcover', 'Mass Market Paperback', 'Sheet music',\n",
       "       'Flexibound', 'Plastic Comb', 'Loose Leaf', 'Tankobon Softcover',\n",
       "       'Perfect Paperback', 'Board book', 'Cards', 'Spiral-bound',\n",
       "       'Product Bundle', 'Library Binding', 'Leather Bound'], dtype=object)"
      ]
     },
     "execution_count": 95,
     "metadata": {},
     "output_type": "execute_result"
    }
   ],
   "source": [
    "train_data.Edition_type.replace('(German),Paperback','Paperback', inplace=True)\n",
    "train_data.Edition_type.replace('(Kannada),Paperback','Paperback', inplace=True)\n",
    "train_data.Edition_type.replace('(Spanish),Paperback','Paperback', inplace=True)\n",
    "train_data.Edition_type.replace('(French),Paperback','Paperback', inplace=True)\n",
    "\n",
    "train_data.Edition_type.unique()"
   ]
  },
  {
   "cell_type": "code",
   "execution_count": 96,
   "id": "e8136ca2",
   "metadata": {},
   "outputs": [
    {
     "data": {
      "text/plain": [
       "Paperback                451\n",
       "Hardcover                 73\n",
       "Mass Market Paperback      7\n",
       "Sheet music                2\n",
       "Flexibound                 1\n",
       "(Spanish),Paperback        1\n",
       "Tankobon Softcover         1\n",
       "Cards                      1\n",
       "Name: Edition_type, dtype: int64"
      ]
     },
     "execution_count": 96,
     "metadata": {},
     "output_type": "execute_result"
    }
   ],
   "source": [
    "test_data['Edition_type'].value_counts()"
   ]
  },
  {
   "cell_type": "code",
   "execution_count": 97,
   "id": "5c63dac4",
   "metadata": {},
   "outputs": [],
   "source": [
    "test_data['Edition_type'].replace('(Spanish),Paperback','Paperback', inplace=True)"
   ]
  },
  {
   "cell_type": "code",
   "execution_count": 98,
   "id": "1dc5b556",
   "metadata": {},
   "outputs": [],
   "source": [
    "train_data['Edition_year']=train_data.Edition_date.apply(lambda x: (x.split()[-1] if x.split()[-1].isdigit() else '2018'))\n",
    "test_data['Edition_year']=test_data.Edition_date.apply(lambda x: (x.split()[-1] if x.split()[-1].isdigit() else '2018'))"
   ]
  },
  {
   "cell_type": "code",
   "execution_count": 99,
   "id": "a6412d6f",
   "metadata": {},
   "outputs": [],
   "source": [
    "train_data.drop('Edition_date',axis = 1,inplace=True)\n",
    "test_data.drop('Edition_date',axis = 1,inplace=True)\n"
   ]
  },
  {
   "cell_type": "code",
   "execution_count": 100,
   "id": "5c38b941",
   "metadata": {},
   "outputs": [
    {
     "data": {
      "text/html": [
       "<div>\n",
       "<style scoped>\n",
       "    .dataframe tbody tr th:only-of-type {\n",
       "        vertical-align: middle;\n",
       "    }\n",
       "\n",
       "    .dataframe tbody tr th {\n",
       "        vertical-align: top;\n",
       "    }\n",
       "\n",
       "    .dataframe thead th {\n",
       "        text-align: right;\n",
       "    }\n",
       "</style>\n",
       "<table border=\"1\" class=\"dataframe\">\n",
       "  <thead>\n",
       "    <tr style=\"text-align: right;\">\n",
       "      <th></th>\n",
       "      <th>Author</th>\n",
       "      <th>Raiting</th>\n",
       "      <th>Review</th>\n",
       "      <th>Genre</th>\n",
       "      <th>BookCategory</th>\n",
       "      <th>Price</th>\n",
       "      <th>Edition_type</th>\n",
       "      <th>Edition_year</th>\n",
       "    </tr>\n",
       "  </thead>\n",
       "  <tbody>\n",
       "    <tr>\n",
       "      <th>0</th>\n",
       "      <td>Chris Kuzneski</td>\n",
       "      <td>4.0</td>\n",
       "      <td>8.0</td>\n",
       "      <td>Action &amp; Adventure (Books)</td>\n",
       "      <td>Action &amp; Adventure</td>\n",
       "      <td>220.00</td>\n",
       "      <td>Paperback</td>\n",
       "      <td>2016</td>\n",
       "    </tr>\n",
       "    <tr>\n",
       "      <th>1</th>\n",
       "      <td>Arun Khopkar</td>\n",
       "      <td>3.9</td>\n",
       "      <td>14.0</td>\n",
       "      <td>Cinema &amp; Broadcast (Books)</td>\n",
       "      <td>Biographies, Diaries &amp; True Accounts</td>\n",
       "      <td>202.93</td>\n",
       "      <td>Paperback</td>\n",
       "      <td>2012</td>\n",
       "    </tr>\n",
       "    <tr>\n",
       "      <th>2</th>\n",
       "      <td>Thomas Hobbes</td>\n",
       "      <td>4.8</td>\n",
       "      <td>6.0</td>\n",
       "      <td>International Relations</td>\n",
       "      <td>Humour</td>\n",
       "      <td>299.00</td>\n",
       "      <td>Paperback</td>\n",
       "      <td>1982</td>\n",
       "    </tr>\n",
       "    <tr>\n",
       "      <th>3</th>\n",
       "      <td>Agatha Christie</td>\n",
       "      <td>4.1</td>\n",
       "      <td>13.0</td>\n",
       "      <td>Contemporary Fiction (Books)</td>\n",
       "      <td>Crime, Thriller &amp; Mystery</td>\n",
       "      <td>180.00</td>\n",
       "      <td>Paperback</td>\n",
       "      <td>2017</td>\n",
       "    </tr>\n",
       "    <tr>\n",
       "      <th>4</th>\n",
       "      <td>Editors of Life</td>\n",
       "      <td>5.0</td>\n",
       "      <td>1.0</td>\n",
       "      <td>Photography Textbooks</td>\n",
       "      <td>Arts, Film &amp; Photography</td>\n",
       "      <td>965.62</td>\n",
       "      <td>Hardcover</td>\n",
       "      <td>2006</td>\n",
       "    </tr>\n",
       "  </tbody>\n",
       "</table>\n",
       "</div>"
      ],
      "text/plain": [
       "            Author  Raiting  Review                         Genre  \\\n",
       "0   Chris Kuzneski      4.0     8.0    Action & Adventure (Books)   \n",
       "1     Arun Khopkar      3.9    14.0    Cinema & Broadcast (Books)   \n",
       "2    Thomas Hobbes      4.8     6.0       International Relations   \n",
       "3  Agatha Christie      4.1    13.0  Contemporary Fiction (Books)   \n",
       "4  Editors of Life      5.0     1.0         Photography Textbooks   \n",
       "\n",
       "                           BookCategory   Price Edition_type Edition_year  \n",
       "0                    Action & Adventure  220.00    Paperback         2016  \n",
       "1  Biographies, Diaries & True Accounts  202.93    Paperback         2012  \n",
       "2                                Humour  299.00    Paperback         1982  \n",
       "3             Crime, Thriller & Mystery  180.00    Paperback         2017  \n",
       "4              Arts, Film & Photography  965.62    Hardcover         2006  "
      ]
     },
     "execution_count": 100,
     "metadata": {},
     "output_type": "execute_result"
    }
   ],
   "source": [
    "train_data.head()"
   ]
  },
  {
   "cell_type": "markdown",
   "id": "903b1086",
   "metadata": {},
   "source": [
    "#### BookCategory"
   ]
  },
  {
   "cell_type": "code",
   "execution_count": 101,
   "id": "daba955c",
   "metadata": {},
   "outputs": [
    {
     "data": {
      "image/png": "[encoded data removed]",
      "text/plain": [
       "<Figure size 1440x504 with 1 Axes>"
      ]
     },
     "metadata": {},
     "output_type": "display_data"
    }
   ],
   "source": [
    "plt.figure(figsize=(20,7))\n",
    "sns.barplot(data=train_data,x='BookCategory',y='Price',palette='coolwarm',ci=None,order=sorted(train_data['BookCategory'].unique()),hue=None)\n",
    "plt.xticks(rotation=90)\n",
    "plt.show()"
   ]
  },
  {
   "cell_type": "markdown",
   "id": "34996af1",
   "metadata": {},
   "source": [
    "Computing,internet and digital media Category has higher price value"
   ]
  },
  {
   "cell_type": "code",
   "execution_count": 59,
   "id": "4f7010e2",
   "metadata": {
    "scrolled": true
   },
   "outputs": [
    {
     "data": {
      "image/png": "[encoded data removed]",
      "text/plain": [
       "<Figure size 576x576 with 3 Axes>"
      ]
     },
     "metadata": {},
     "output_type": "display_data"
    }
   ],
   "source": [
    "plt.figure(figsize=(8,8))\n",
    "plt.subplot(3,1,1)\n",
    "sns.histplot(train_data['Raiting'], kde=True)\n",
    "plt.subplot(3,1,2)\n",
    "sns.histplot(train_data['Review'], kde=True)\n",
    "plt.subplot(3,1,3)\n",
    "sns.histplot(train_data['Price'], kde=True)\n",
    "plt.subplots_adjust(hspace=0.5)"
   ]
  },
  {
   "cell_type": "code",
   "execution_count": 60,
   "id": "ca99e837",
   "metadata": {},
   "outputs": [
    {
     "data": {
      "text/plain": [
       "<AxesSubplot:>"
      ]
     },
     "execution_count": 60,
     "metadata": {},
     "output_type": "execute_result"
    },
    {
     "data": {
      "image/png": "[encoded data removed]",
      "text/plain": [
       "<Figure size 432x288 with 2 Axes>"
      ]
     },
     "metadata": {},
     "output_type": "display_data"
    }
   ],
   "source": [
    "sns.heatmap(train_data.corr(numeric_only=True),annot=True)"
   ]
  },
  {
   "cell_type": "code",
   "execution_count": 61,
   "id": "906dde96",
   "metadata": {},
   "outputs": [
    {
     "data": {
      "image/png": "[encoded data removed]",
      "text/plain": [
       "<Figure size 540x540 with 12 Axes>"
      ]
     },
     "metadata": {},
     "output_type": "display_data"
    }
   ],
   "source": [
    "sns.pairplot(train_data)\n",
    "plt.show()"
   ]
  },
  {
   "cell_type": "code",
   "execution_count": 62,
   "id": "abc8a53f",
   "metadata": {},
   "outputs": [
    {
     "data": {
      "image/png": "[encoded data removed]",
      "text/plain": [
       "<Figure size 576x576 with 2 Axes>"
      ]
     },
     "metadata": {},
     "output_type": "display_data"
    }
   ],
   "source": [
    "plt.figure(figsize=(8,8))\n",
    "plt.subplot(2,1,1)\n",
    "sns.histplot(test_data['Raiting'], kde=True)\n",
    "plt.subplot(2,1,2)\n",
    "sns.histplot(test_data['Review'], kde=True)\n",
    "\n",
    "plt.subplots_adjust(hspace=0.5)"
   ]
  },
  {
   "cell_type": "code",
   "execution_count": 63,
   "id": "578f4268",
   "metadata": {},
   "outputs": [
    {
     "data": {
      "text/html": [
       "<div>\n",
       "<style scoped>\n",
       "    .dataframe tbody tr th:only-of-type {\n",
       "        vertical-align: middle;\n",
       "    }\n",
       "\n",
       "    .dataframe tbody tr th {\n",
       "        vertical-align: top;\n",
       "    }\n",
       "\n",
       "    .dataframe thead th {\n",
       "        text-align: right;\n",
       "    }\n",
       "</style>\n",
       "<table border=\"1\" class=\"dataframe\">\n",
       "  <thead>\n",
       "    <tr style=\"text-align: right;\">\n",
       "      <th></th>\n",
       "      <th>Author</th>\n",
       "      <th>Raiting</th>\n",
       "      <th>Review</th>\n",
       "      <th>Genre</th>\n",
       "      <th>BookCategory</th>\n",
       "      <th>Edition_type</th>\n",
       "      <th>Edition_year</th>\n",
       "    </tr>\n",
       "  </thead>\n",
       "  <tbody>\n",
       "    <tr>\n",
       "      <th>0</th>\n",
       "      <td>Marie Seton</td>\n",
       "      <td>4.8</td>\n",
       "      <td>10.0</td>\n",
       "      <td>Biographies &amp; Autobiographies (Books)</td>\n",
       "      <td>Arts, Film &amp; Photography</td>\n",
       "      <td>Paperback</td>\n",
       "      <td>2003</td>\n",
       "    </tr>\n",
       "    <tr>\n",
       "      <th>1</th>\n",
       "      <td>Emma Farrarons</td>\n",
       "      <td>3.9</td>\n",
       "      <td>6.0</td>\n",
       "      <td>Handicrafts, Decorative Arts &amp; Crafts (Books)</td>\n",
       "      <td>Arts, Film &amp; Photography</td>\n",
       "      <td>Paperback</td>\n",
       "      <td>2015</td>\n",
       "    </tr>\n",
       "    <tr>\n",
       "      <th>2</th>\n",
       "      <td>Jason Matthews</td>\n",
       "      <td>3.3</td>\n",
       "      <td>3.0</td>\n",
       "      <td>Action &amp; Adventure (Books)</td>\n",
       "      <td>Crime, Thriller &amp; Mystery</td>\n",
       "      <td>Paperback</td>\n",
       "      <td>2016</td>\n",
       "    </tr>\n",
       "    <tr>\n",
       "      <th>3</th>\n",
       "      <td>Mukherjee</td>\n",
       "      <td>3.8</td>\n",
       "      <td>74.0</td>\n",
       "      <td>Political Ideologies (Books)</td>\n",
       "      <td>Politics</td>\n",
       "      <td>Paperback</td>\n",
       "      <td>2011</td>\n",
       "    </tr>\n",
       "    <tr>\n",
       "      <th>4</th>\n",
       "      <td>Scott Gummer</td>\n",
       "      <td>4.0</td>\n",
       "      <td>1.0</td>\n",
       "      <td>Baseball (Books)</td>\n",
       "      <td>Sports</td>\n",
       "      <td>Paperback</td>\n",
       "      <td>2010</td>\n",
       "    </tr>\n",
       "    <tr>\n",
       "      <th>...</th>\n",
       "      <td>...</td>\n",
       "      <td>...</td>\n",
       "      <td>...</td>\n",
       "      <td>...</td>\n",
       "      <td>...</td>\n",
       "      <td>...</td>\n",
       "      <td>...</td>\n",
       "    </tr>\n",
       "    <tr>\n",
       "      <th>532</th>\n",
       "      <td>Tom Phillips</td>\n",
       "      <td>5.0</td>\n",
       "      <td>2.0</td>\n",
       "      <td>Anthropology (Books)</td>\n",
       "      <td>Humour</td>\n",
       "      <td>Paperback</td>\n",
       "      <td>2018</td>\n",
       "    </tr>\n",
       "    <tr>\n",
       "      <th>533</th>\n",
       "      <td>Stephenie Meyer</td>\n",
       "      <td>3.3</td>\n",
       "      <td>9.0</td>\n",
       "      <td>Contemporary Fiction (Books)</td>\n",
       "      <td>Crime, Thriller &amp; Mystery</td>\n",
       "      <td>Paperback</td>\n",
       "      <td>2016</td>\n",
       "    </tr>\n",
       "    <tr>\n",
       "      <th>534</th>\n",
       "      <td>Julia Quinn</td>\n",
       "      <td>3.8</td>\n",
       "      <td>3.0</td>\n",
       "      <td>Romance (Books)</td>\n",
       "      <td>Romance</td>\n",
       "      <td>Paperback</td>\n",
       "      <td>2006</td>\n",
       "    </tr>\n",
       "    <tr>\n",
       "      <th>535</th>\n",
       "      <td>Amanda Hocking</td>\n",
       "      <td>3.5</td>\n",
       "      <td>4.0</td>\n",
       "      <td>Action &amp; Adventure (Books)</td>\n",
       "      <td>Action &amp; Adventure</td>\n",
       "      <td>Paperback</td>\n",
       "      <td>2015</td>\n",
       "    </tr>\n",
       "    <tr>\n",
       "      <th>536</th>\n",
       "      <td>Jeff Abbott</td>\n",
       "      <td>3.9</td>\n",
       "      <td>2.0</td>\n",
       "      <td>Action &amp; Adventure (Books)</td>\n",
       "      <td>Action &amp; Adventure</td>\n",
       "      <td>Paperback</td>\n",
       "      <td>2016</td>\n",
       "    </tr>\n",
       "  </tbody>\n",
       "</table>\n",
       "<p>537 rows × 7 columns</p>\n",
       "</div>"
      ],
      "text/plain": [
       "              Author  Raiting  Review  \\\n",
       "0        Marie Seton      4.8    10.0   \n",
       "1     Emma Farrarons      3.9     6.0   \n",
       "2     Jason Matthews      3.3     3.0   \n",
       "3          Mukherjee      3.8    74.0   \n",
       "4       Scott Gummer      4.0     1.0   \n",
       "..               ...      ...     ...   \n",
       "532     Tom Phillips      5.0     2.0   \n",
       "533  Stephenie Meyer      3.3     9.0   \n",
       "534      Julia Quinn      3.8     3.0   \n",
       "535   Amanda Hocking      3.5     4.0   \n",
       "536      Jeff Abbott      3.9     2.0   \n",
       "\n",
       "                                             Genre               BookCategory  \\\n",
       "0            Biographies & Autobiographies (Books)   Arts, Film & Photography   \n",
       "1    Handicrafts, Decorative Arts & Crafts (Books)   Arts, Film & Photography   \n",
       "2                       Action & Adventure (Books)  Crime, Thriller & Mystery   \n",
       "3                     Political Ideologies (Books)                   Politics   \n",
       "4                                 Baseball (Books)                     Sports   \n",
       "..                                             ...                        ...   \n",
       "532                           Anthropology (Books)                     Humour   \n",
       "533                   Contemporary Fiction (Books)  Crime, Thriller & Mystery   \n",
       "534                                Romance (Books)                    Romance   \n",
       "535                     Action & Adventure (Books)         Action & Adventure   \n",
       "536                     Action & Adventure (Books)         Action & Adventure   \n",
       "\n",
       "    Edition_type Edition_year  \n",
       "0      Paperback         2003  \n",
       "1      Paperback         2015  \n",
       "2      Paperback         2016  \n",
       "3      Paperback         2011  \n",
       "4      Paperback         2010  \n",
       "..           ...          ...  \n",
       "532    Paperback         2018  \n",
       "533    Paperback         2016  \n",
       "534    Paperback         2006  \n",
       "535    Paperback         2015  \n",
       "536    Paperback         2016  \n",
       "\n",
       "[537 rows x 7 columns]"
      ]
     },
     "execution_count": 63,
     "metadata": {},
     "output_type": "execute_result"
    }
   ],
   "source": [
    "test_data"
   ]
  },
  {
   "cell_type": "code",
   "execution_count": 103,
   "id": "4c4efbd9",
   "metadata": {},
   "outputs": [],
   "source": [
    "X_train = train_data.drop('Price', axis=1)\n",
    "y_train = train_data['Price']\n",
    "\n",
    "\n",
    "\n",
    "from scipy.stats import boxcox\n",
    "y_train=boxcox(train_data.Price)[0]\n",
    "X_test = test_data\n",
    "\n"
   ]
  },
  {
   "cell_type": "code",
   "execution_count": 105,
   "id": "48ecea86",
   "metadata": {},
   "outputs": [
    {
     "data": {
      "text/plain": [
       "array([3.86424381, 3.82426692, 4.01230011, ..., 4.19952575, 3.49704642,\n",
       "       3.44973933])"
      ]
     },
     "execution_count": 105,
     "metadata": {},
     "output_type": "execute_result"
    }
   ],
   "source": [
    "y_train"
   ]
  },
  {
   "cell_type": "code",
   "execution_count": 66,
   "id": "547929f0",
   "metadata": {},
   "outputs": [
    {
     "data": {
      "text/html": [
       "<div>\n",
       "<style scoped>\n",
       "    .dataframe tbody tr th:only-of-type {\n",
       "        vertical-align: middle;\n",
       "    }\n",
       "\n",
       "    .dataframe tbody tr th {\n",
       "        vertical-align: top;\n",
       "    }\n",
       "\n",
       "    .dataframe thead th {\n",
       "        text-align: right;\n",
       "    }\n",
       "</style>\n",
       "<table border=\"1\" class=\"dataframe\">\n",
       "  <thead>\n",
       "    <tr style=\"text-align: right;\">\n",
       "      <th></th>\n",
       "      <th>Author</th>\n",
       "      <th>Raiting</th>\n",
       "      <th>Review</th>\n",
       "      <th>Genre</th>\n",
       "      <th>BookCategory</th>\n",
       "      <th>Edition_type</th>\n",
       "      <th>Edition_year</th>\n",
       "    </tr>\n",
       "  </thead>\n",
       "  <tbody>\n",
       "    <tr>\n",
       "      <th>0</th>\n",
       "      <td>Chris Kuzneski</td>\n",
       "      <td>4.0</td>\n",
       "      <td>8.0</td>\n",
       "      <td>Action &amp; Adventure (Books)</td>\n",
       "      <td>Action &amp; Adventure</td>\n",
       "      <td>Paperback</td>\n",
       "      <td>2016</td>\n",
       "    </tr>\n",
       "    <tr>\n",
       "      <th>1</th>\n",
       "      <td>Arun Khopkar</td>\n",
       "      <td>3.9</td>\n",
       "      <td>14.0</td>\n",
       "      <td>Cinema &amp; Broadcast (Books)</td>\n",
       "      <td>Biographies, Diaries &amp; True Accounts</td>\n",
       "      <td>Paperback</td>\n",
       "      <td>2012</td>\n",
       "    </tr>\n",
       "    <tr>\n",
       "      <th>2</th>\n",
       "      <td>Thomas Hobbes</td>\n",
       "      <td>4.8</td>\n",
       "      <td>6.0</td>\n",
       "      <td>International Relations</td>\n",
       "      <td>Humour</td>\n",
       "      <td>Paperback</td>\n",
       "      <td>1982</td>\n",
       "    </tr>\n",
       "    <tr>\n",
       "      <th>3</th>\n",
       "      <td>Agatha Christie</td>\n",
       "      <td>4.1</td>\n",
       "      <td>13.0</td>\n",
       "      <td>Contemporary Fiction (Books)</td>\n",
       "      <td>Crime, Thriller &amp; Mystery</td>\n",
       "      <td>Paperback</td>\n",
       "      <td>2017</td>\n",
       "    </tr>\n",
       "    <tr>\n",
       "      <th>4</th>\n",
       "      <td>Editors of Life</td>\n",
       "      <td>5.0</td>\n",
       "      <td>1.0</td>\n",
       "      <td>Photography Textbooks</td>\n",
       "      <td>Arts, Film &amp; Photography</td>\n",
       "      <td>Hardcover</td>\n",
       "      <td>2006</td>\n",
       "    </tr>\n",
       "    <tr>\n",
       "      <th>...</th>\n",
       "      <td>...</td>\n",
       "      <td>...</td>\n",
       "      <td>...</td>\n",
       "      <td>...</td>\n",
       "      <td>...</td>\n",
       "      <td>...</td>\n",
       "      <td>...</td>\n",
       "    </tr>\n",
       "    <tr>\n",
       "      <th>5694</th>\n",
       "      <td>Ajahn Brahm</td>\n",
       "      <td>4.9</td>\n",
       "      <td>9.0</td>\n",
       "      <td>Buddhism (Books)</td>\n",
       "      <td>Humour</td>\n",
       "      <td>Paperback</td>\n",
       "      <td>2005</td>\n",
       "    </tr>\n",
       "    <tr>\n",
       "      <th>5695</th>\n",
       "      <td>Paul Mason</td>\n",
       "      <td>4.1</td>\n",
       "      <td>2.0</td>\n",
       "      <td>Macroeconomics Textbooks</td>\n",
       "      <td>Politics</td>\n",
       "      <td>Paperback</td>\n",
       "      <td>2016</td>\n",
       "    </tr>\n",
       "    <tr>\n",
       "      <th>5696</th>\n",
       "      <td>Matthew Reilly</td>\n",
       "      <td>4.1</td>\n",
       "      <td>28.0</td>\n",
       "      <td>Action &amp; Adventure (Books)</td>\n",
       "      <td>Crime, Thriller &amp; Mystery</td>\n",
       "      <td>Paperback</td>\n",
       "      <td>2016</td>\n",
       "    </tr>\n",
       "    <tr>\n",
       "      <th>5697</th>\n",
       "      <td>Sebastian Faulks</td>\n",
       "      <td>1.0</td>\n",
       "      <td>1.0</td>\n",
       "      <td>Contemporary Fiction (Books)</td>\n",
       "      <td>Crime, Thriller &amp; Mystery</td>\n",
       "      <td>Paperback</td>\n",
       "      <td>2008</td>\n",
       "    </tr>\n",
       "    <tr>\n",
       "      <th>5698</th>\n",
       "      <td>Oscar Wilde</td>\n",
       "      <td>4.5</td>\n",
       "      <td>7.0</td>\n",
       "      <td>Essays (Books)</td>\n",
       "      <td>Humour</td>\n",
       "      <td>Paperback</td>\n",
       "      <td>2016</td>\n",
       "    </tr>\n",
       "  </tbody>\n",
       "</table>\n",
       "<p>5699 rows × 7 columns</p>\n",
       "</div>"
      ],
      "text/plain": [
       "                Author  Raiting  Review                         Genre  \\\n",
       "0       Chris Kuzneski      4.0     8.0    Action & Adventure (Books)   \n",
       "1         Arun Khopkar      3.9    14.0    Cinema & Broadcast (Books)   \n",
       "2        Thomas Hobbes      4.8     6.0       International Relations   \n",
       "3      Agatha Christie      4.1    13.0  Contemporary Fiction (Books)   \n",
       "4      Editors of Life      5.0     1.0         Photography Textbooks   \n",
       "...                ...      ...     ...                           ...   \n",
       "5694       Ajahn Brahm      4.9     9.0              Buddhism (Books)   \n",
       "5695        Paul Mason      4.1     2.0      Macroeconomics Textbooks   \n",
       "5696    Matthew Reilly      4.1    28.0    Action & Adventure (Books)   \n",
       "5697  Sebastian Faulks      1.0     1.0  Contemporary Fiction (Books)   \n",
       "5698       Oscar Wilde      4.5     7.0                Essays (Books)   \n",
       "\n",
       "                              BookCategory Edition_type Edition_year  \n",
       "0                       Action & Adventure    Paperback         2016  \n",
       "1     Biographies, Diaries & True Accounts    Paperback         2012  \n",
       "2                                   Humour    Paperback         1982  \n",
       "3                Crime, Thriller & Mystery    Paperback         2017  \n",
       "4                 Arts, Film & Photography    Hardcover         2006  \n",
       "...                                    ...          ...          ...  \n",
       "5694                                Humour    Paperback         2005  \n",
       "5695                              Politics    Paperback         2016  \n",
       "5696             Crime, Thriller & Mystery    Paperback         2016  \n",
       "5697             Crime, Thriller & Mystery    Paperback         2008  \n",
       "5698                                Humour    Paperback         2016  \n",
       "\n",
       "[5699 rows x 7 columns]"
      ]
     },
     "execution_count": 66,
     "metadata": {},
     "output_type": "execute_result"
    }
   ],
   "source": [
    "X_train"
   ]
  },
  {
   "cell_type": "code",
   "execution_count": 67,
   "id": "f31be2c0",
   "metadata": {
    "scrolled": true
   },
   "outputs": [
    {
     "name": "stdout",
     "output_type": "stream",
     "text": [
      "<class 'pandas.core.frame.DataFrame'>\n",
      "RangeIndex: 537 entries, 0 to 536\n",
      "Data columns (total 7 columns):\n",
      " #   Column        Non-Null Count  Dtype  \n",
      "---  ------        --------------  -----  \n",
      " 0   Author        537 non-null    object \n",
      " 1   Raiting       537 non-null    float64\n",
      " 2   Review        537 non-null    float64\n",
      " 3   Genre         537 non-null    object \n",
      " 4   BookCategory  537 non-null    object \n",
      " 5   Edition_type  537 non-null    object \n",
      " 6   Edition_year  537 non-null    object \n",
      "dtypes: float64(2), object(5)\n",
      "memory usage: 29.5+ KB\n"
     ]
    }
   ],
   "source": [
    "X_test.info()"
   ]
  },
  {
   "cell_type": "code",
   "execution_count": 106,
   "id": "034f9cdb",
   "metadata": {
    "scrolled": true
   },
   "outputs": [],
   "source": [
    "from sklearn.preprocessing import LabelEncoder\n",
    "\n",
    "le = LabelEncoder()\n",
    "cols_to_encode = ['Author', 'Edition_type', 'BookCategory', 'Edition_year', 'Genre']\n",
    "combined_data = pd.concat([X_train, X_test])\n",
    "\n",
    "# Fit LabelEncoder on combined data\n",
    "for col in cols_to_encode:\n",
    "    combined_data[col] = le.fit_transform(combined_data[col])\n",
    "\n",
    "# Transform train and test data\n",
    "X_train = combined_data[:len(X_train)]\n",
    "X_test = combined_data[len(X_train):]\n",
    "\n"
   ]
  },
  {
   "cell_type": "code",
   "execution_count": 110,
   "id": "5de593fd",
   "metadata": {},
   "outputs": [],
   "source": [
    "\n",
    "from sklearn.preprocessing import StandardScaler\n",
    "scaler = StandardScaler()\n",
    "X_train = scaler.fit_transform(X_train)\n",
    "X_test = scaler.transform(X_test)"
   ]
  },
  {
   "cell_type": "code",
   "execution_count": 111,
   "id": "6ea24dc9",
   "metadata": {},
   "outputs": [
    {
     "data": {
      "text/plain": [
       "array([[-1.11304532, -0.44404278, -0.18251582, ..., -1.45692254,\n",
       "         0.39094091,  0.532422  ],\n",
       "       [-1.40386697, -0.59578469, -0.14330232, ..., -0.82585151,\n",
       "         0.39094091,  0.00543264],\n",
       "       [ 1.50623806,  0.76989249, -0.19558698, ...,  0.43629055,\n",
       "         0.39094091, -3.94698756],\n",
       "       ...,\n",
       "       [ 0.32312268, -0.29230087, -0.05180416, ...,  0.12075504,\n",
       "         0.39094091,  0.532422  ],\n",
       "       [ 1.17859158, -4.99630006, -0.2282649 , ...,  0.12075504,\n",
       "         0.39094091, -0.52155672],\n",
       "       [ 0.59978094,  0.31466676, -0.1890514 , ...,  0.43629055,\n",
       "         0.39094091,  0.532422  ]])"
      ]
     },
     "execution_count": 111,
     "metadata": {},
     "output_type": "execute_result"
    }
   ],
   "source": [
    "X_train"
   ]
  },
  {
   "cell_type": "code",
   "execution_count": 115,
   "id": "eecbcf86",
   "metadata": {},
   "outputs": [
    {
     "data": {
      "text/html": [
       "<style>#sk-container-id-1 {color: black;background-color: white;}#sk-container-id-1 pre{padding: 0;}#sk-container-id-1 div.sk-toggleable {background-color: white;}#sk-container-id-1 label.sk-toggleable__label {cursor: pointer;display: block;width: 100%;margin-bottom: 0;padding: 0.3em;box-sizing: border-box;text-align: center;}#sk-container-id-1 label.sk-toggleable__label-arrow:before {content: \"▸\";float: left;margin-right: 0.25em;color: #696969;}#sk-container-id-1 label.sk-toggleable__label-arrow:hover:before {color: black;}#sk-container-id-1 div.sk-estimator:hover label.sk-toggleable__label-arrow:before {color: black;}#sk-container-id-1 div.sk-toggleable__content {max-height: 0;max-width: 0;overflow: hidden;text-align: left;background-color: #f0f8ff;}#sk-container-id-1 div.sk-toggleable__content pre {margin: 0.2em;color: black;border-radius: 0.25em;background-color: #f0f8ff;}#sk-container-id-1 input.sk-toggleable__control:checked~div.sk-toggleable__content {max-height: 200px;max-width: 100%;overflow: auto;}#sk-container-id-1 input.sk-toggleable__control:checked~label.sk-toggleable__label-arrow:before {content: \"▾\";}#sk-container-id-1 div.sk-estimator input.sk-toggleable__control:checked~label.sk-toggleable__label {background-color: #d4ebff;}#sk-container-id-1 div.sk-label input.sk-toggleable__control:checked~label.sk-toggleable__label {background-color: #d4ebff;}#sk-container-id-1 input.sk-hidden--visually {border: 0;clip: rect(1px 1px 1px 1px);clip: rect(1px, 1px, 1px, 1px);height: 1px;margin: -1px;overflow: hidden;padding: 0;position: absolute;width: 1px;}#sk-container-id-1 div.sk-estimator {font-family: monospace;background-color: #f0f8ff;border: 1px dotted black;border-radius: 0.25em;box-sizing: border-box;margin-bottom: 0.5em;}#sk-container-id-1 div.sk-estimator:hover {background-color: #d4ebff;}#sk-container-id-1 div.sk-parallel-item::after {content: \"\";width: 100%;border-bottom: 1px solid gray;flex-grow: 1;}#sk-container-id-1 div.sk-label:hover label.sk-toggleable__label {background-color: #d4ebff;}#sk-container-id-1 div.sk-serial::before {content: \"\";position: absolute;border-left: 1px solid gray;box-sizing: border-box;top: 0;bottom: 0;left: 50%;z-index: 0;}#sk-container-id-1 div.sk-serial {display: flex;flex-direction: column;align-items: center;background-color: white;padding-right: 0.2em;padding-left: 0.2em;position: relative;}#sk-container-id-1 div.sk-item {position: relative;z-index: 1;}#sk-container-id-1 div.sk-parallel {display: flex;align-items: stretch;justify-content: center;background-color: white;position: relative;}#sk-container-id-1 div.sk-item::before, #sk-container-id-1 div.sk-parallel-item::before {content: \"\";position: absolute;border-left: 1px solid gray;box-sizing: border-box;top: 0;bottom: 0;left: 50%;z-index: -1;}#sk-container-id-1 div.sk-parallel-item {display: flex;flex-direction: column;z-index: 1;position: relative;background-color: white;}#sk-container-id-1 div.sk-parallel-item:first-child::after {align-self: flex-end;width: 50%;}#sk-container-id-1 div.sk-parallel-item:last-child::after {align-self: flex-start;width: 50%;}#sk-container-id-1 div.sk-parallel-item:only-child::after {width: 0;}#sk-container-id-1 div.sk-dashed-wrapped {border: 1px dashed gray;margin: 0 0.4em 0.5em 0.4em;box-sizing: border-box;padding-bottom: 0.4em;background-color: white;}#sk-container-id-1 div.sk-label label {font-family: monospace;font-weight: bold;display: inline-block;line-height: 1.2em;}#sk-container-id-1 div.sk-label-container {text-align: center;}#sk-container-id-1 div.sk-container {/* jupyter's `normalize.less` sets `[hidden] { display: none; }` but bootstrap.min.css set `[hidden] { display: none !important; }` so we also need the `!important` here to be able to override the default hidden behavior on the sphinx rendered scikit-learn.org. See: https://github.com/scikit-learn/scikit-learn/issues/21755 */display: inline-block !important;position: relative;}#sk-container-id-1 div.sk-text-repr-fallback {display: none;}</style><div id=\"sk-container-id-1\" class=\"sk-top-container\"><div class=\"sk-text-repr-fallback\"><pre>RandomForestRegressor(random_state=0)</pre><b>In a Jupyter environment, please rerun this cell to show the HTML representation or trust the notebook. <br />On GitHub, the HTML representation is unable to render, please try loading this page with nbviewer.org.</b></div><div class=\"sk-container\" hidden><div class=\"sk-item\"><div class=\"sk-estimator sk-toggleable\"><input class=\"sk-toggleable__control sk-hidden--visually\" id=\"sk-estimator-id-1\" type=\"checkbox\" checked><label for=\"sk-estimator-id-1\" class=\"sk-toggleable__label sk-toggleable__label-arrow\">RandomForestRegressor</label><div class=\"sk-toggleable__content\"><pre>RandomForestRegressor(random_state=0)</pre></div></div></div></div></div>"
      ],
      "text/plain": [
       "RandomForestRegressor(random_state=0)"
      ]
     },
     "execution_count": 115,
     "metadata": {},
     "output_type": "execute_result"
    }
   ],
   "source": [
    "from sklearn.ensemble import RandomForestRegressor\n",
    "regressor = RandomForestRegressor(n_estimators = 100, random_state = 0)\n",
    "regressor.fit(X_train, y_train)"
   ]
  },
  {
   "cell_type": "code",
   "execution_count": 116,
   "id": "3549976e",
   "metadata": {},
   "outputs": [],
   "source": [
    "y_pred = regressor.predict(X_train)"
   ]
  },
  {
   "cell_type": "code",
   "execution_count": 117,
   "id": "18839bbe",
   "metadata": {},
   "outputs": [],
   "source": [
    "from sklearn.metrics import mean_squared_error as mse"
   ]
  },
  {
   "cell_type": "code",
   "execution_count": 118,
   "id": "fd3199f6",
   "metadata": {},
   "outputs": [
    {
     "data": {
      "text/plain": [
       "0.010654987906791225"
      ]
     },
     "execution_count": 118,
     "metadata": {},
     "output_type": "execute_result"
    }
   ],
   "source": [
    "mse(y_train, y_pred)"
   ]
  },
  {
   "cell_type": "code",
   "execution_count": 119,
   "id": "40633737",
   "metadata": {},
   "outputs": [
    {
     "data": {
      "text/plain": [
       "<matplotlib.collections.PathCollection at 0x6aafb80>"
      ]
     },
     "execution_count": 119,
     "metadata": {},
     "output_type": "execute_result"
    },
    {
     "data": {
      "image/png": "[encoded data removed]",
      "text/plain": [
       "<Figure size 432x288 with 1 Axes>"
      ]
     },
     "metadata": {},
     "output_type": "display_data"
    }
   ],
   "source": [
    "plt.scatter(y_train,y_pred)"
   ]
  },
  {
   "cell_type": "code",
   "execution_count": 120,
   "id": "bf1683e4",
   "metadata": {},
   "outputs": [
    {
     "data": {
      "text/html": [
       "<div>\n",
       "<style scoped>\n",
       "    .dataframe tbody tr th:only-of-type {\n",
       "        vertical-align: middle;\n",
       "    }\n",
       "\n",
       "    .dataframe tbody tr th {\n",
       "        vertical-align: top;\n",
       "    }\n",
       "\n",
       "    .dataframe thead th {\n",
       "        text-align: right;\n",
       "    }\n",
       "</style>\n",
       "<table border=\"1\" class=\"dataframe\">\n",
       "  <thead>\n",
       "    <tr style=\"text-align: right;\">\n",
       "      <th></th>\n",
       "      <th>Price</th>\n",
       "    </tr>\n",
       "  </thead>\n",
       "  <tbody>\n",
       "    <tr>\n",
       "      <th>0</th>\n",
       "      <td>379.577433</td>\n",
       "    </tr>\n",
       "    <tr>\n",
       "      <th>1</th>\n",
       "      <td>220.966609</td>\n",
       "    </tr>\n",
       "    <tr>\n",
       "      <th>2</th>\n",
       "      <td>276.945468</td>\n",
       "    </tr>\n",
       "    <tr>\n",
       "      <th>3</th>\n",
       "      <td>245.474796</td>\n",
       "    </tr>\n",
       "    <tr>\n",
       "      <th>4</th>\n",
       "      <td>531.042903</td>\n",
       "    </tr>\n",
       "    <tr>\n",
       "      <th>...</th>\n",
       "      <td>...</td>\n",
       "    </tr>\n",
       "    <tr>\n",
       "      <th>532</th>\n",
       "      <td>459.359413</td>\n",
       "    </tr>\n",
       "    <tr>\n",
       "      <th>533</th>\n",
       "      <td>292.364739</td>\n",
       "    </tr>\n",
       "    <tr>\n",
       "      <th>534</th>\n",
       "      <td>308.861138</td>\n",
       "    </tr>\n",
       "    <tr>\n",
       "      <th>535</th>\n",
       "      <td>369.446235</td>\n",
       "    </tr>\n",
       "    <tr>\n",
       "      <th>536</th>\n",
       "      <td>330.708381</td>\n",
       "    </tr>\n",
       "  </tbody>\n",
       "</table>\n",
       "<p>537 rows × 1 columns</p>\n",
       "</div>"
      ],
      "text/plain": [
       "          Price\n",
       "0    379.577433\n",
       "1    220.966609\n",
       "2    276.945468\n",
       "3    245.474796\n",
       "4    531.042903\n",
       "..          ...\n",
       "532  459.359413\n",
       "533  292.364739\n",
       "534  308.861138\n",
       "535  369.446235\n",
       "536  330.708381\n",
       "\n",
       "[537 rows x 1 columns]"
      ]
     },
     "execution_count": 120,
     "metadata": {},
     "output_type": "execute_result"
    }
   ],
   "source": [
    "y_test_pred = regressor.predict(X_test)\n",
    "\n",
    "from scipy.special import inv_boxcox\n",
    "\n",
    "#Inverse Box-Cox transformation\n",
    "y_pred = inv_boxcox(y_test_pred, boxcox(train_data.Price)[1])\n",
    "y_test_pred = pd.DataFrame(y_pred,columns=['Price'])\n",
    "y_test_pred"
   ]
  },
  {
   "cell_type": "code",
   "execution_count": 121,
   "id": "b14ebb1c",
   "metadata": {},
   "outputs": [
    {
     "data": {
      "text/html": [
       "<div>\n",
       "<style scoped>\n",
       "    .dataframe tbody tr th:only-of-type {\n",
       "        vertical-align: middle;\n",
       "    }\n",
       "\n",
       "    .dataframe tbody tr th {\n",
       "        vertical-align: top;\n",
       "    }\n",
       "\n",
       "    .dataframe thead th {\n",
       "        text-align: right;\n",
       "    }\n",
       "</style>\n",
       "<table border=\"1\" class=\"dataframe\">\n",
       "  <thead>\n",
       "    <tr style=\"text-align: right;\">\n",
       "      <th></th>\n",
       "      <th>index</th>\n",
       "      <th>Price</th>\n",
       "    </tr>\n",
       "  </thead>\n",
       "  <tbody>\n",
       "    <tr>\n",
       "      <th>0</th>\n",
       "      <td>0</td>\n",
       "      <td>379.577433</td>\n",
       "    </tr>\n",
       "    <tr>\n",
       "      <th>1</th>\n",
       "      <td>1</td>\n",
       "      <td>220.966609</td>\n",
       "    </tr>\n",
       "    <tr>\n",
       "      <th>2</th>\n",
       "      <td>2</td>\n",
       "      <td>276.945468</td>\n",
       "    </tr>\n",
       "    <tr>\n",
       "      <th>3</th>\n",
       "      <td>3</td>\n",
       "      <td>245.474796</td>\n",
       "    </tr>\n",
       "    <tr>\n",
       "      <th>4</th>\n",
       "      <td>4</td>\n",
       "      <td>531.042903</td>\n",
       "    </tr>\n",
       "    <tr>\n",
       "      <th>...</th>\n",
       "      <td>...</td>\n",
       "      <td>...</td>\n",
       "    </tr>\n",
       "    <tr>\n",
       "      <th>532</th>\n",
       "      <td>532</td>\n",
       "      <td>459.359413</td>\n",
       "    </tr>\n",
       "    <tr>\n",
       "      <th>533</th>\n",
       "      <td>533</td>\n",
       "      <td>292.364739</td>\n",
       "    </tr>\n",
       "    <tr>\n",
       "      <th>534</th>\n",
       "      <td>534</td>\n",
       "      <td>308.861138</td>\n",
       "    </tr>\n",
       "    <tr>\n",
       "      <th>535</th>\n",
       "      <td>535</td>\n",
       "      <td>369.446235</td>\n",
       "    </tr>\n",
       "    <tr>\n",
       "      <th>536</th>\n",
       "      <td>536</td>\n",
       "      <td>330.708381</td>\n",
       "    </tr>\n",
       "  </tbody>\n",
       "</table>\n",
       "<p>537 rows × 2 columns</p>\n",
       "</div>"
      ],
      "text/plain": [
       "     index       Price\n",
       "0        0  379.577433\n",
       "1        1  220.966609\n",
       "2        2  276.945468\n",
       "3        3  245.474796\n",
       "4        4  531.042903\n",
       "..     ...         ...\n",
       "532    532  459.359413\n",
       "533    533  292.364739\n",
       "534    534  308.861138\n",
       "535    535  369.446235\n",
       "536    536  330.708381\n",
       "\n",
       "[537 rows x 2 columns]"
      ]
     },
     "execution_count": 121,
     "metadata": {},
     "output_type": "execute_result"
    }
   ],
   "source": [
    "y_test_pred.reset_index(inplace=True)\n",
    "y_test_pred"
   ]
  },
  {
   "cell_type": "code",
   "execution_count": 122,
   "id": "48b4abb8",
   "metadata": {},
   "outputs": [],
   "source": [
    "pd.DataFrame(y_test_pred,columns=['index','Price']).to_csv('my_submission_1.csv',index=None)\n"
   ]
  },
  {
   "cell_type": "code",
   "execution_count": 123,
   "id": "141c2f06",
   "metadata": {},
   "outputs": [
    {
     "data": {
      "text/html": [
       "<div>\n",
       "<style scoped>\n",
       "    .dataframe tbody tr th:only-of-type {\n",
       "        vertical-align: middle;\n",
       "    }\n",
       "\n",
       "    .dataframe tbody tr th {\n",
       "        vertical-align: top;\n",
       "    }\n",
       "\n",
       "    .dataframe thead th {\n",
       "        text-align: right;\n",
       "    }\n",
       "</style>\n",
       "<table border=\"1\" class=\"dataframe\">\n",
       "  <thead>\n",
       "    <tr style=\"text-align: right;\">\n",
       "      <th></th>\n",
       "      <th>index</th>\n",
       "      <th>Price</th>\n",
       "    </tr>\n",
       "  </thead>\n",
       "  <tbody>\n",
       "    <tr>\n",
       "      <th>0</th>\n",
       "      <td>0</td>\n",
       "      <td>379.577433</td>\n",
       "    </tr>\n",
       "    <tr>\n",
       "      <th>1</th>\n",
       "      <td>1</td>\n",
       "      <td>220.966609</td>\n",
       "    </tr>\n",
       "    <tr>\n",
       "      <th>2</th>\n",
       "      <td>2</td>\n",
       "      <td>276.945468</td>\n",
       "    </tr>\n",
       "    <tr>\n",
       "      <th>3</th>\n",
       "      <td>3</td>\n",
       "      <td>245.474796</td>\n",
       "    </tr>\n",
       "    <tr>\n",
       "      <th>4</th>\n",
       "      <td>4</td>\n",
       "      <td>531.042903</td>\n",
       "    </tr>\n",
       "  </tbody>\n",
       "</table>\n",
       "</div>"
      ],
      "text/plain": [
       "   index       Price\n",
       "0      0  379.577433\n",
       "1      1  220.966609\n",
       "2      2  276.945468\n",
       "3      3  245.474796\n",
       "4      4  531.042903"
      ]
     },
     "execution_count": 123,
     "metadata": {},
     "output_type": "execute_result"
    }
   ],
   "source": [
    "df = pd.read_csv('C:\\\\Users\\\\Win\\\\Desktop\\\\my_submission_1.csv')\n",
    "df.head()"
   ]
  },
  {
   "cell_type": "code",
   "execution_count": null,
   "id": "67166e61",
   "metadata": {},
   "outputs": [],
   "source": []
  },
  {
   "cell_type": "code",
   "execution_count": null,
   "id": "59b4eb26",
   "metadata": {},
   "outputs": [],
   "source": []
  },
  {
   "cell_type": "code",
   "execution_count": null,
   "id": "e4b3617d",
   "metadata": {},
   "outputs": [],
   "source": []
  }
 ],
 "metadata": {
  "kernelspec": {
   "display_name": "Python 3",
   "language": "python",
   "name": "python3"
  },
  "language_info": {
   "codemirror_mode": {
    "name": "ipython",
    "version": 3
   },
   "file_extension": ".py",
   "mimetype": "text/x-python",
   "name": "python",
   "nbconvert_exporter": "python",
   "pygments_lexer": "ipython3",
   "version": "3.8.8"
  }
 },
 "nbformat": 4,
 "nbformat_minor": 5
}
